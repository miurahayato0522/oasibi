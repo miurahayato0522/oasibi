{
 "cells": [
  {
   "cell_type": "code",
   "execution_count": null,
   "id": "59a446a5-00fd-4d97-a10c-a9d0b58a865b",
   "metadata": {},
   "outputs": [],
   "source": [
    "twitterのインプレッション増やしお試し"
   ]
  },
  {
   "cell_type": "code",
   "execution_count": 79,
   "id": "b6b4cc08-f902-41af-a8d8-4259374c76cc",
   "metadata": {},
   "outputs": [
    {
     "name": "stderr",
     "output_type": "stream",
     "text": [
      "C:\\Users\\nanan\\AppData\\Local\\Temp\\ipykernel_27468\\3369662764.py:12: DeprecationWarning: executable_path has been deprecated, please pass in a Service object\n",
      "  driver = webdriver.Chrome(\"C:\\chromdriver\\chromedriver.exe\", options=options)\n"
     ]
    },
    {
     "name": "stdout",
     "output_type": "stream",
     "text": [
      "インプレッション0回追加完了\n"
     ]
    },
    {
     "name": "stderr",
     "output_type": "stream",
     "text": [
      "\n",
      "KeyboardInterrupt\n",
      "\n"
     ]
    }
   ],
   "source": [
    "from selenium import webdriver\n",
    "from selenium.webdriver.chrome.options import Options\n",
    "from selenium.webdriver.support.ui import WebDriverWait\n",
    "from selenium.webdriver.support import expected_conditions as EC\n",
    "from selenium.webdriver.common.by import By\n",
    "from selenium.webdriver.common.action_chains import ActionChains\n",
    "import time\n",
    "\n",
    "twitter_id = \"\"\n",
    "#どこまで読み込むか\n",
    "scroll = 4\n",
    "#待ち時間\n",
    "wait_time = 1.5\n",
    "\n",
    "def get_tweet(twitter_id):\n",
    "    url = 'https://twitter.com/' + twitter_id\n",
    "    #　ヘッドレスでやる\n",
    "    options = Options()\n",
    "    options.add_argument('--headless')\n",
    "    driver = webdriver.Chrome(\"C:\\chromdriver\\chromedriver.exe\", options=options)\n",
    "    driver.get(url)\n",
    " \n",
    "    # articleタグが読み込まれるまで待機\n",
    "    WebDriverWait(driver, 15).until(EC.visibility_of_element_located((By.TAG_NAME, 'article')))\n",
    "     \n",
    "    # 指定回数スクロール\n",
    "    for i in range(scroll):\n",
    "        # スクロール＝ページ移動\n",
    "        scroll_to_elem(driver)\n",
    "        time.sleep(wait_time)  \n",
    "    #停止\n",
    "    driver.quit()\n",
    "\n",
    "def scroll_to_elem(driver):\n",
    "     \n",
    "    # 最後の要素の一つ前までスクロール\n",
    "    elems_article = driver.find_elements(By.TAG_NAME,'article')\n",
    "    last_elem = elems_article[-2]\n",
    "    actions = ActionChains(driver);\n",
    "    actions.move_to_element(last_elem);\n",
    "    actions.perform();\n",
    "    \n",
    "for i in range(140):\n",
    "    if __name__ == '__main__':\n",
    "        tweet_list = get_tweet(twitter_id)\n",
    "        if i % 2 ==0:\n",
    "            print(\"インプレッション\"+str(i)+\"回追加完了\")"
   ]
  }

